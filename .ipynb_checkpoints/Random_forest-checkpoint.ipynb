{
 "cells": [
  {
   "cell_type": "markdown",
   "metadata": {},
   "source": [
    "# Estimating elasticities with Random Forest"
   ]
  },
  {
   "cell_type": "markdown",
   "metadata": {},
   "source": [
    "This is a project that concerns the application of machine learning (ML) in causal inference. Here, in particular, we are going to apply one of the most pervasively used ML methods, Random Forest, to estimate price elasticity for Fullfilment BY Amazon (FBA) retailer. Let us start by loading necessary packages first.  "
   ]
  },
  {
   "cell_type": "code",
   "execution_count": 1,
   "metadata": {},
   "outputs": [
    {
     "name": "stderr",
     "output_type": "stream",
     "text": [
      "C:\\Users\\Shakil\\Anaconda3\\lib\\site-packages\\sklearn\\feature_extraction\\image.py:167: DeprecationWarning: `np.int` is a deprecated alias for the builtin `int`. To silence this warning, use `int` by itself. Doing this will not modify any behavior and is safe. When replacing `np.int`, you may wish to use e.g. `np.int64` or `np.int32` to specify the precision. If you wish to review your current use, check the release note link for additional information.\n",
      "Deprecated in NumPy 1.20; for more details and guidance: https://numpy.org/devdocs/release/1.20.0-notes.html#deprecations\n",
      "  dtype=np.int):\n",
      "C:\\Users\\Shakil\\Anaconda3\\lib\\site-packages\\sklearn\\ensemble\\gradient_boosting.py:34: DeprecationWarning: `np.bool` is a deprecated alias for the builtin `bool`. To silence this warning, use `bool` by itself. Doing this will not modify any behavior and is safe. If you specifically wanted the numpy scalar type, use `np.bool_` here.\n",
      "Deprecated in NumPy 1.20; for more details and guidance: https://numpy.org/devdocs/release/1.20.0-notes.html#deprecations\n",
      "  from ._gradient_boosting import predict_stages\n",
      "C:\\Users\\Shakil\\Anaconda3\\lib\\site-packages\\sklearn\\ensemble\\gradient_boosting.py:34: DeprecationWarning: `np.bool` is a deprecated alias for the builtin `bool`. To silence this warning, use `bool` by itself. Doing this will not modify any behavior and is safe. If you specifically wanted the numpy scalar type, use `np.bool_` here.\n",
      "Deprecated in NumPy 1.20; for more details and guidance: https://numpy.org/devdocs/release/1.20.0-notes.html#deprecations\n",
      "  from ._gradient_boosting import predict_stages\n"
     ]
    }
   ],
   "source": [
    "import pandas as pd, numpy as np\n",
    "from datetime import datetime, date\n",
    "from matplotlib import pyplot as plt\n",
    "import seaborn as sns\n",
    "\n",
    "from sklearn.pipeline import Pipeline\n",
    "from sklearn.compose import ColumnTransformer\n",
    "from sklearn.preprocessing import OneHotEncoder, StandardScaler\n",
    "from sklearn.feature_extraction.text import CountVectorizer\n",
    "from sklearn.ensemble import RandomForestRegressor\n",
    "from sklearn.model_selection import KFold"
   ]
  },
  {
   "cell_type": "markdown",
   "metadata": {},
   "source": [
    "The dataset in use here is a publicly available data which is available [here](https://www.kaggle.com/vijayuv/onlineretail). Let's have a snippet at the dataset:"
   ]
  },
  {
   "cell_type": "code",
   "execution_count": 2,
   "metadata": {},
   "outputs": [
    {
     "data": {
      "text/html": [
       "<div>\n",
       "<style scoped>\n",
       "    .dataframe tbody tr th:only-of-type {\n",
       "        vertical-align: middle;\n",
       "    }\n",
       "\n",
       "    .dataframe tbody tr th {\n",
       "        vertical-align: top;\n",
       "    }\n",
       "\n",
       "    .dataframe thead th {\n",
       "        text-align: right;\n",
       "    }\n",
       "</style>\n",
       "<table border=\"1\" class=\"dataframe\">\n",
       "  <thead>\n",
       "    <tr style=\"text-align: right;\">\n",
       "      <th></th>\n",
       "      <th>InvoiceNo</th>\n",
       "      <th>StockCode</th>\n",
       "      <th>Description</th>\n",
       "      <th>Quantity</th>\n",
       "      <th>InvoiceDate</th>\n",
       "      <th>UnitPrice</th>\n",
       "      <th>CustomerID</th>\n",
       "      <th>Country</th>\n",
       "    </tr>\n",
       "  </thead>\n",
       "  <tbody>\n",
       "    <tr>\n",
       "      <th>94300</th>\n",
       "      <td>544342</td>\n",
       "      <td>22633</td>\n",
       "      <td>NaN</td>\n",
       "      <td>-53</td>\n",
       "      <td>2/18/2011 9:44</td>\n",
       "      <td>0.00</td>\n",
       "      <td>NaN</td>\n",
       "      <td>United Kingdom</td>\n",
       "    </tr>\n",
       "    <tr>\n",
       "      <th>439335</th>\n",
       "      <td>574445</td>\n",
       "      <td>21172</td>\n",
       "      <td>PARTY METAL SIGN</td>\n",
       "      <td>12</td>\n",
       "      <td>11/4/2011 11:41</td>\n",
       "      <td>1.45</td>\n",
       "      <td>15722.0</td>\n",
       "      <td>United Kingdom</td>\n",
       "    </tr>\n",
       "    <tr>\n",
       "      <th>94051</th>\n",
       "      <td>544323</td>\n",
       "      <td>47574A</td>\n",
       "      <td>ENGLISH ROSE SCENTED HANGING FLOWER</td>\n",
       "      <td>1</td>\n",
       "      <td>2/17/2011 15:51</td>\n",
       "      <td>2.46</td>\n",
       "      <td>NaN</td>\n",
       "      <td>United Kingdom</td>\n",
       "    </tr>\n",
       "    <tr>\n",
       "      <th>286666</th>\n",
       "      <td>562034</td>\n",
       "      <td>23229</td>\n",
       "      <td>VINTAGE DONKEY TAIL GAME</td>\n",
       "      <td>6</td>\n",
       "      <td>8/2/2011 9:14</td>\n",
       "      <td>3.75</td>\n",
       "      <td>12449.0</td>\n",
       "      <td>Belgium</td>\n",
       "    </tr>\n",
       "    <tr>\n",
       "      <th>107350</th>\n",
       "      <td>545430</td>\n",
       "      <td>82483</td>\n",
       "      <td>WOOD 2 DRAWER CABINET WHITE FINISH</td>\n",
       "      <td>10</td>\n",
       "      <td>3/2/2011 14:50</td>\n",
       "      <td>6.95</td>\n",
       "      <td>15636.0</td>\n",
       "      <td>United Kingdom</td>\n",
       "    </tr>\n",
       "    <tr>\n",
       "      <th>523978</th>\n",
       "      <td>580527</td>\n",
       "      <td>21306</td>\n",
       "      <td>SET/4 DAISY MIRROR MAGNETS</td>\n",
       "      <td>2</td>\n",
       "      <td>12/4/2011 15:19</td>\n",
       "      <td>0.29</td>\n",
       "      <td>13736.0</td>\n",
       "      <td>United Kingdom</td>\n",
       "    </tr>\n",
       "    <tr>\n",
       "      <th>287380</th>\n",
       "      <td>562102</td>\n",
       "      <td>21746</td>\n",
       "      <td>SMALL RED RETROSPOT WINDMILL</td>\n",
       "      <td>12</td>\n",
       "      <td>8/2/2011 14:21</td>\n",
       "      <td>1.25</td>\n",
       "      <td>13089.0</td>\n",
       "      <td>United Kingdom</td>\n",
       "    </tr>\n",
       "    <tr>\n",
       "      <th>89711</th>\n",
       "      <td>543924</td>\n",
       "      <td>22967</td>\n",
       "      <td>SET 3 SONG BIRD PAPER EGGS ASSORTED</td>\n",
       "      <td>1</td>\n",
       "      <td>2/14/2011 14:14</td>\n",
       "      <td>2.95</td>\n",
       "      <td>16904.0</td>\n",
       "      <td>United Kingdom</td>\n",
       "    </tr>\n",
       "    <tr>\n",
       "      <th>292070</th>\n",
       "      <td>562539</td>\n",
       "      <td>22900</td>\n",
       "      <td>SET 2 TEA TOWELS I LOVE LONDON</td>\n",
       "      <td>4</td>\n",
       "      <td>8/5/2011 15:30</td>\n",
       "      <td>3.25</td>\n",
       "      <td>17220.0</td>\n",
       "      <td>United Kingdom</td>\n",
       "    </tr>\n",
       "    <tr>\n",
       "      <th>527208</th>\n",
       "      <td>580695</td>\n",
       "      <td>22210</td>\n",
       "      <td>WOOD STAMP SET BEST WISHES</td>\n",
       "      <td>1</td>\n",
       "      <td>12/5/2011 16:03</td>\n",
       "      <td>0.83</td>\n",
       "      <td>13230.0</td>\n",
       "      <td>United Kingdom</td>\n",
       "    </tr>\n",
       "  </tbody>\n",
       "</table>\n",
       "</div>"
      ],
      "text/plain": [
       "       InvoiceNo StockCode                          Description  Quantity  \\\n",
       "94300     544342     22633                                  NaN       -53   \n",
       "439335    574445     21172                    PARTY METAL SIGN         12   \n",
       "94051     544323    47574A  ENGLISH ROSE SCENTED HANGING FLOWER         1   \n",
       "286666    562034     23229            VINTAGE DONKEY TAIL GAME          6   \n",
       "107350    545430     82483   WOOD 2 DRAWER CABINET WHITE FINISH        10   \n",
       "523978    580527     21306           SET/4 DAISY MIRROR MAGNETS         2   \n",
       "287380    562102     21746         SMALL RED RETROSPOT WINDMILL        12   \n",
       "89711     543924     22967  SET 3 SONG BIRD PAPER EGGS ASSORTED         1   \n",
       "292070    562539     22900      SET 2 TEA TOWELS I LOVE LONDON          4   \n",
       "527208    580695     22210           WOOD STAMP SET BEST WISHES         1   \n",
       "\n",
       "            InvoiceDate  UnitPrice  CustomerID         Country  \n",
       "94300    2/18/2011 9:44       0.00         NaN  United Kingdom  \n",
       "439335  11/4/2011 11:41       1.45     15722.0  United Kingdom  \n",
       "94051   2/17/2011 15:51       2.46         NaN  United Kingdom  \n",
       "286666    8/2/2011 9:14       3.75     12449.0         Belgium  \n",
       "107350   3/2/2011 14:50       6.95     15636.0  United Kingdom  \n",
       "523978  12/4/2011 15:19       0.29     13736.0  United Kingdom  \n",
       "287380   8/2/2011 14:21       1.25     13089.0  United Kingdom  \n",
       "89711   2/14/2011 14:14       2.95     16904.0  United Kingdom  \n",
       "292070   8/5/2011 15:30       3.25     17220.0  United Kingdom  \n",
       "527208  12/5/2011 16:03       0.83     13230.0  United Kingdom  "
      ]
     },
     "execution_count": 2,
     "metadata": {},
     "output_type": "execute_result"
    }
   ],
   "source": [
    "df = pd.read_csv('E:\\Jupyter_files\\OnlineRetail.csv')\n",
    "\n",
    "df.sample(10)"
   ]
  },
  {
   "cell_type": "markdown",
   "metadata": {},
   "source": [
    "As we are going to estimate elasticity, quantity and price are thwo variables that we are mostly concerned with. Let's look at some descriptive statistics of these two variables. "
   ]
  },
  {
   "cell_type": "code",
   "execution_count": 3,
   "metadata": {},
   "outputs": [
    {
     "data": {
      "text/html": [
       "<div>\n",
       "<style scoped>\n",
       "    .dataframe tbody tr th:only-of-type {\n",
       "        vertical-align: middle;\n",
       "    }\n",
       "\n",
       "    .dataframe tbody tr th {\n",
       "        vertical-align: top;\n",
       "    }\n",
       "\n",
       "    .dataframe thead th {\n",
       "        text-align: right;\n",
       "    }\n",
       "</style>\n",
       "<table border=\"1\" class=\"dataframe\">\n",
       "  <thead>\n",
       "    <tr style=\"text-align: right;\">\n",
       "      <th></th>\n",
       "      <th>count</th>\n",
       "      <th>mean</th>\n",
       "      <th>std</th>\n",
       "      <th>min</th>\n",
       "      <th>25%</th>\n",
       "      <th>50%</th>\n",
       "      <th>75%</th>\n",
       "      <th>max</th>\n",
       "    </tr>\n",
       "  </thead>\n",
       "  <tbody>\n",
       "    <tr>\n",
       "      <th>Quantity</th>\n",
       "      <td>541909.0</td>\n",
       "      <td>9.552250</td>\n",
       "      <td>218.081158</td>\n",
       "      <td>-80995.00</td>\n",
       "      <td>1.00</td>\n",
       "      <td>3.00</td>\n",
       "      <td>10.00</td>\n",
       "      <td>80995.0</td>\n",
       "    </tr>\n",
       "    <tr>\n",
       "      <th>UnitPrice</th>\n",
       "      <td>541909.0</td>\n",
       "      <td>4.611114</td>\n",
       "      <td>96.759853</td>\n",
       "      <td>-11062.06</td>\n",
       "      <td>1.25</td>\n",
       "      <td>2.08</td>\n",
       "      <td>4.13</td>\n",
       "      <td>38970.0</td>\n",
       "    </tr>\n",
       "  </tbody>\n",
       "</table>\n",
       "</div>"
      ],
      "text/plain": [
       "              count      mean         std       min   25%   50%    75%  \\\n",
       "Quantity   541909.0  9.552250  218.081158 -80995.00  1.00  3.00  10.00   \n",
       "UnitPrice  541909.0  4.611114   96.759853 -11062.06  1.25  2.08   4.13   \n",
       "\n",
       "               max  \n",
       "Quantity   80995.0  \n",
       "UnitPrice  38970.0  "
      ]
     },
     "execution_count": 3,
     "metadata": {},
     "output_type": "execute_result"
    }
   ],
   "source": [
    "pd.DataFrame([df.Quantity.describe(),df.UnitPrice.describe()])"
   ]
  },
  {
   "cell_type": "markdown",
   "metadata": {},
   "source": [
    "It looks like that we need to deal with outliers on both side. First of all, the smallest values for both the variables are negative, which doesn't fall within the feasible range. May be it's the entries for returns from customers. Let's just get rid of such negative entries first from the datafarme."
   ]
  },
  {
   "cell_type": "code",
   "execution_count": 4,
   "metadata": {},
   "outputs": [
    {
     "data": {
      "text/html": [
       "<div>\n",
       "<style scoped>\n",
       "    .dataframe tbody tr th:only-of-type {\n",
       "        vertical-align: middle;\n",
       "    }\n",
       "\n",
       "    .dataframe tbody tr th {\n",
       "        vertical-align: top;\n",
       "    }\n",
       "\n",
       "    .dataframe thead th {\n",
       "        text-align: right;\n",
       "    }\n",
       "</style>\n",
       "<table border=\"1\" class=\"dataframe\">\n",
       "  <thead>\n",
       "    <tr style=\"text-align: right;\">\n",
       "      <th></th>\n",
       "      <th>count</th>\n",
       "      <th>mean</th>\n",
       "      <th>std</th>\n",
       "      <th>min</th>\n",
       "      <th>25%</th>\n",
       "      <th>50%</th>\n",
       "      <th>75%</th>\n",
       "      <th>max</th>\n",
       "    </tr>\n",
       "  </thead>\n",
       "  <tbody>\n",
       "    <tr>\n",
       "      <th>Quantity</th>\n",
       "      <td>530104.0</td>\n",
       "      <td>10.542037</td>\n",
       "      <td>155.524124</td>\n",
       "      <td>1.000</td>\n",
       "      <td>1.00</td>\n",
       "      <td>3.00</td>\n",
       "      <td>10.00</td>\n",
       "      <td>80995.00</td>\n",
       "    </tr>\n",
       "    <tr>\n",
       "      <th>UnitPrice</th>\n",
       "      <td>530104.0</td>\n",
       "      <td>3.907625</td>\n",
       "      <td>35.915681</td>\n",
       "      <td>0.001</td>\n",
       "      <td>1.25</td>\n",
       "      <td>2.08</td>\n",
       "      <td>4.13</td>\n",
       "      <td>13541.33</td>\n",
       "    </tr>\n",
       "  </tbody>\n",
       "</table>\n",
       "</div>"
      ],
      "text/plain": [
       "              count       mean         std    min   25%   50%    75%       max\n",
       "Quantity   530104.0  10.542037  155.524124  1.000  1.00  3.00  10.00  80995.00\n",
       "UnitPrice  530104.0   3.907625   35.915681  0.001  1.25  2.08   4.13  13541.33"
      ]
     },
     "execution_count": 4,
     "metadata": {},
     "output_type": "execute_result"
    }
   ],
   "source": [
    "df = df[\n",
    "    (df.Quantity > 0) &\n",
    "    (df.UnitPrice > 0)\n",
    "]\n",
    "pd.DataFrame([df.Quantity.describe(),df.UnitPrice.describe()])"
   ]
  },
  {
   "cell_type": "markdown",
   "metadata": {},
   "source": [
    "Description column of the dataset is a great way to understand the entries. Fortunately, StockCode gives us some non-numerical values which are suspect for not being sells entries. Let's try and find out those entries first. "
   ]
  },
  {
   "cell_type": "code",
   "execution_count": 5,
   "metadata": {},
   "outputs": [
    {
     "data": {
      "text/plain": [
       "array(['POST', 'C2', 'DOT', 'M', 'BANK CHARGES', 'AMAZONFEE', 'DCGS0076',\n",
       "       'DCGS0003', 'gift_0001_40', 'DCGS0070', 'm', 'gift_0001_50',\n",
       "       'gift_0001_30', 'gift_0001_20', 'DCGS0069', 'DCGSSBOY',\n",
       "       'DCGSSGIRL', 'gift_0001_10', 'S', 'PADS', 'DCGS0004', 'B'],\n",
       "      dtype=object)"
      ]
     },
     "execution_count": 5,
     "metadata": {},
     "output_type": "execute_result"
    }
   ],
   "source": [
    "df[~df[\"StockCode\"].str[0].str.isnumeric()].StockCode.unique()"
   ]
  },
  {
   "cell_type": "markdown",
   "metadata": {},
   "source": [
    "Our next step is to carefully investigate all such entries and determine which ones are not sales record from the description column. Then we get rid of those rows from the dataframe. "
   ]
  },
  {
   "cell_type": "code",
   "execution_count": 6,
   "metadata": {},
   "outputs": [],
   "source": [
    "df = df[~df.StockCode.isin(['POST', 'DOT', 'M', 'AMAZONFEE', 'BANK CHARGES', 'C2', 'B', 'S'])]"
   ]
  },
  {
   "cell_type": "markdown",
   "metadata": {},
   "source": [
    "Now, we need to take care of a couple of things now. First, let's try to deal with the outliers on the upper side. "
   ]
  },
  {
   "cell_type": "code",
   "execution_count": 7,
   "metadata": {},
   "outputs": [
    {
     "data": {
      "text/html": [
       "<div>\n",
       "<style scoped>\n",
       "    .dataframe tbody tr th:only-of-type {\n",
       "        vertical-align: middle;\n",
       "    }\n",
       "\n",
       "    .dataframe tbody tr th {\n",
       "        vertical-align: top;\n",
       "    }\n",
       "\n",
       "    .dataframe thead th {\n",
       "        text-align: right;\n",
       "    }\n",
       "</style>\n",
       "<table border=\"1\" class=\"dataframe\">\n",
       "  <thead>\n",
       "    <tr style=\"text-align: right;\">\n",
       "      <th></th>\n",
       "      <th>InvoiceNo</th>\n",
       "      <th>StockCode</th>\n",
       "      <th>Description</th>\n",
       "      <th>Quantity</th>\n",
       "      <th>InvoiceDate</th>\n",
       "      <th>UnitPrice</th>\n",
       "      <th>CustomerID</th>\n",
       "      <th>Country</th>\n",
       "    </tr>\n",
       "  </thead>\n",
       "  <tbody>\n",
       "    <tr>\n",
       "      <th>540421</th>\n",
       "      <td>581483</td>\n",
       "      <td>23843</td>\n",
       "      <td>PAPER CRAFT , LITTLE BIRDIE</td>\n",
       "      <td>80995</td>\n",
       "      <td>12/9/2011 9:15</td>\n",
       "      <td>2.08</td>\n",
       "      <td>16446.0</td>\n",
       "      <td>United Kingdom</td>\n",
       "    </tr>\n",
       "    <tr>\n",
       "      <th>61619</th>\n",
       "      <td>541431</td>\n",
       "      <td>23166</td>\n",
       "      <td>MEDIUM CERAMIC TOP STORAGE JAR</td>\n",
       "      <td>74215</td>\n",
       "      <td>1/18/2011 10:01</td>\n",
       "      <td>1.04</td>\n",
       "      <td>12346.0</td>\n",
       "      <td>United Kingdom</td>\n",
       "    </tr>\n",
       "    <tr>\n",
       "      <th>421632</th>\n",
       "      <td>573008</td>\n",
       "      <td>84077</td>\n",
       "      <td>WORLD WAR 2 GLIDERS ASSTD DESIGNS</td>\n",
       "      <td>4800</td>\n",
       "      <td>10/27/2011 12:26</td>\n",
       "      <td>0.21</td>\n",
       "      <td>12901.0</td>\n",
       "      <td>United Kingdom</td>\n",
       "    </tr>\n",
       "    <tr>\n",
       "      <th>206121</th>\n",
       "      <td>554868</td>\n",
       "      <td>22197</td>\n",
       "      <td>SMALL POPCORN HOLDER</td>\n",
       "      <td>4300</td>\n",
       "      <td>5/27/2011 10:52</td>\n",
       "      <td>0.72</td>\n",
       "      <td>13135.0</td>\n",
       "      <td>United Kingdom</td>\n",
       "    </tr>\n",
       "    <tr>\n",
       "      <th>97432</th>\n",
       "      <td>544612</td>\n",
       "      <td>22053</td>\n",
       "      <td>EMPIRE DESIGN ROSETTE</td>\n",
       "      <td>3906</td>\n",
       "      <td>2/22/2011 10:43</td>\n",
       "      <td>0.82</td>\n",
       "      <td>18087.0</td>\n",
       "      <td>United Kingdom</td>\n",
       "    </tr>\n",
       "  </tbody>\n",
       "</table>\n",
       "</div>"
      ],
      "text/plain": [
       "       InvoiceNo StockCode                        Description  Quantity  \\\n",
       "540421    581483     23843        PAPER CRAFT , LITTLE BIRDIE     80995   \n",
       "61619     541431     23166     MEDIUM CERAMIC TOP STORAGE JAR     74215   \n",
       "421632    573008     84077  WORLD WAR 2 GLIDERS ASSTD DESIGNS      4800   \n",
       "206121    554868     22197               SMALL POPCORN HOLDER      4300   \n",
       "97432     544612     22053              EMPIRE DESIGN ROSETTE      3906   \n",
       "\n",
       "             InvoiceDate  UnitPrice  CustomerID         Country  \n",
       "540421    12/9/2011 9:15       2.08     16446.0  United Kingdom  \n",
       "61619    1/18/2011 10:01       1.04     12346.0  United Kingdom  \n",
       "421632  10/27/2011 12:26       0.21     12901.0  United Kingdom  \n",
       "206121   5/27/2011 10:52       0.72     13135.0  United Kingdom  \n",
       "97432    2/22/2011 10:43       0.82     18087.0  United Kingdom  "
      ]
     },
     "execution_count": 7,
     "metadata": {},
     "output_type": "execute_result"
    }
   ],
   "source": [
    "df.nlargest(5, columns='Quantity')"
   ]
  },
  {
   "cell_type": "code",
   "execution_count": 8,
   "metadata": {},
   "outputs": [
    {
     "data": {
      "text/html": [
       "<div>\n",
       "<style scoped>\n",
       "    .dataframe tbody tr th:only-of-type {\n",
       "        vertical-align: middle;\n",
       "    }\n",
       "\n",
       "    .dataframe tbody tr th {\n",
       "        vertical-align: top;\n",
       "    }\n",
       "\n",
       "    .dataframe thead th {\n",
       "        text-align: right;\n",
       "    }\n",
       "</style>\n",
       "<table border=\"1\" class=\"dataframe\">\n",
       "  <thead>\n",
       "    <tr style=\"text-align: right;\">\n",
       "      <th></th>\n",
       "      <th>InvoiceNo</th>\n",
       "      <th>StockCode</th>\n",
       "      <th>Description</th>\n",
       "      <th>Quantity</th>\n",
       "      <th>InvoiceDate</th>\n",
       "      <th>UnitPrice</th>\n",
       "      <th>CustomerID</th>\n",
       "      <th>Country</th>\n",
       "    </tr>\n",
       "  </thead>\n",
       "  <tbody>\n",
       "    <tr>\n",
       "      <th>222680</th>\n",
       "      <td>556444</td>\n",
       "      <td>22502</td>\n",
       "      <td>PICNIC BASKET WICKER 60 PIECES</td>\n",
       "      <td>60</td>\n",
       "      <td>6/10/2011 15:28</td>\n",
       "      <td>649.5</td>\n",
       "      <td>15098.0</td>\n",
       "      <td>United Kingdom</td>\n",
       "    </tr>\n",
       "    <tr>\n",
       "      <th>222682</th>\n",
       "      <td>556446</td>\n",
       "      <td>22502</td>\n",
       "      <td>PICNIC BASKET WICKER 60 PIECES</td>\n",
       "      <td>1</td>\n",
       "      <td>6/10/2011 15:33</td>\n",
       "      <td>649.5</td>\n",
       "      <td>15098.0</td>\n",
       "      <td>United Kingdom</td>\n",
       "    </tr>\n",
       "    <tr>\n",
       "      <th>4989</th>\n",
       "      <td>536835</td>\n",
       "      <td>22655</td>\n",
       "      <td>VINTAGE RED KITCHEN CABINET</td>\n",
       "      <td>1</td>\n",
       "      <td>12/2/2010 18:06</td>\n",
       "      <td>295.0</td>\n",
       "      <td>13145.0</td>\n",
       "      <td>United Kingdom</td>\n",
       "    </tr>\n",
       "    <tr>\n",
       "      <th>32484</th>\n",
       "      <td>539080</td>\n",
       "      <td>22655</td>\n",
       "      <td>VINTAGE RED KITCHEN CABINET</td>\n",
       "      <td>1</td>\n",
       "      <td>12/16/2010 8:41</td>\n",
       "      <td>295.0</td>\n",
       "      <td>16607.0</td>\n",
       "      <td>United Kingdom</td>\n",
       "    </tr>\n",
       "    <tr>\n",
       "      <th>51636</th>\n",
       "      <td>540647</td>\n",
       "      <td>22655</td>\n",
       "      <td>VINTAGE RED KITCHEN CABINET</td>\n",
       "      <td>1</td>\n",
       "      <td>1/10/2011 14:57</td>\n",
       "      <td>295.0</td>\n",
       "      <td>17406.0</td>\n",
       "      <td>United Kingdom</td>\n",
       "    </tr>\n",
       "  </tbody>\n",
       "</table>\n",
       "</div>"
      ],
      "text/plain": [
       "       InvoiceNo StockCode                     Description  Quantity  \\\n",
       "222680    556444     22502  PICNIC BASKET WICKER 60 PIECES        60   \n",
       "222682    556446     22502  PICNIC BASKET WICKER 60 PIECES         1   \n",
       "4989      536835     22655     VINTAGE RED KITCHEN CABINET         1   \n",
       "32484     539080     22655     VINTAGE RED KITCHEN CABINET         1   \n",
       "51636     540647     22655     VINTAGE RED KITCHEN CABINET         1   \n",
       "\n",
       "            InvoiceDate  UnitPrice  CustomerID         Country  \n",
       "222680  6/10/2011 15:28      649.5     15098.0  United Kingdom  \n",
       "222682  6/10/2011 15:33      649.5     15098.0  United Kingdom  \n",
       "4989    12/2/2010 18:06      295.0     13145.0  United Kingdom  \n",
       "32484   12/16/2010 8:41      295.0     16607.0  United Kingdom  \n",
       "51636   1/10/2011 14:57      295.0     17406.0  United Kingdom  "
      ]
     },
     "execution_count": 8,
     "metadata": {},
     "output_type": "execute_result"
    }
   ],
   "source": [
    "df.nlargest(5, columns='UnitPrice')"
   ]
  },
  {
   "cell_type": "code",
   "execution_count": 9,
   "metadata": {},
   "outputs": [
    {
     "data": {
      "text/html": [
       "<div>\n",
       "<style scoped>\n",
       "    .dataframe tbody tr th:only-of-type {\n",
       "        vertical-align: middle;\n",
       "    }\n",
       "\n",
       "    .dataframe tbody tr th {\n",
       "        vertical-align: top;\n",
       "    }\n",
       "\n",
       "    .dataframe thead th {\n",
       "        text-align: right;\n",
       "    }\n",
       "</style>\n",
       "<table border=\"1\" class=\"dataframe\">\n",
       "  <thead>\n",
       "    <tr style=\"text-align: right;\">\n",
       "      <th></th>\n",
       "      <th>count</th>\n",
       "      <th>mean</th>\n",
       "      <th>std</th>\n",
       "      <th>min</th>\n",
       "      <th>25%</th>\n",
       "      <th>50%</th>\n",
       "      <th>75%</th>\n",
       "      <th>max</th>\n",
       "    </tr>\n",
       "  </thead>\n",
       "  <tbody>\n",
       "    <tr>\n",
       "      <th>Quantity</th>\n",
       "      <td>527791.0</td>\n",
       "      <td>10.272867</td>\n",
       "      <td>37.732211</td>\n",
       "      <td>1.000</td>\n",
       "      <td>1.00</td>\n",
       "      <td>3.00</td>\n",
       "      <td>11.00</td>\n",
       "      <td>4800.0</td>\n",
       "    </tr>\n",
       "    <tr>\n",
       "      <th>UnitPrice</th>\n",
       "      <td>527791.0</td>\n",
       "      <td>3.266470</td>\n",
       "      <td>4.380817</td>\n",
       "      <td>0.001</td>\n",
       "      <td>1.25</td>\n",
       "      <td>2.08</td>\n",
       "      <td>4.13</td>\n",
       "      <td>649.5</td>\n",
       "    </tr>\n",
       "  </tbody>\n",
       "</table>\n",
       "</div>"
      ],
      "text/plain": [
       "              count       mean        std    min   25%   50%    75%     max\n",
       "Quantity   527791.0  10.272867  37.732211  1.000  1.00  3.00  11.00  4800.0\n",
       "UnitPrice  527791.0   3.266470   4.380817  0.001  1.25  2.08   4.13   649.5"
      ]
     },
     "execution_count": 9,
     "metadata": {},
     "output_type": "execute_result"
    }
   ],
   "source": [
    "df = df[~df.InvoiceNo.isin([\"581483\",\"541431\"])]\n",
    "pd.DataFrame([df.Quantity.describe(),df.UnitPrice.describe()])"
   ]
  },
  {
   "cell_type": "markdown",
   "metadata": {},
   "source": [
    "Now, merely looking into the UnitPrice in the table above, the jump from 75th percentile to max generates suspicion. Let us look at this closely."
   ]
  },
  {
   "cell_type": "code",
   "execution_count": 10,
   "metadata": {},
   "outputs": [
    {
     "data": {
      "text/plain": [
       "array([ 46.78,  49.21,  67.31,  73.29,  80.01,  89.96, 110.  , 245.  ,\n",
       "       245.  , 647.5 ])"
      ]
     },
     "execution_count": 10,
     "metadata": {},
     "output_type": "execute_result"
    }
   ],
   "source": [
    "np.sort(df.groupby(\"StockCode\").agg({'UnitPrice': ['min', 'max']})[\"UnitPrice\"][\"max\"]-\n",
    "df.groupby(\"StockCode\").agg({'UnitPrice': ['min', 'max']})[\"UnitPrice\"][\"min\"])[-10:]"
   ]
  },
  {
   "cell_type": "markdown",
   "metadata": {},
   "source": [
    "So, we see that there lies quite a large gap between the minimum and maximum price for a particualr stock code. Considering this data is an eight month observation, this seems like wrong entry or something like that. We clean those data from our dataframe. We are going to use the logic that the price should not be less than one-third of the median price and should not be greater than three times of median. "
   ]
  },
  {
   "cell_type": "code",
   "execution_count": 11,
   "metadata": {},
   "outputs": [],
   "source": [
    "df = (\n",
    "    df\n",
    "    .assign(\n",
    "        dNormalPrice=lambda d: d.UnitPrice \n",
    "            / d.groupby('StockCode').UnitPrice.transform('median') \n",
    "    )\n",
    "    .pipe(\n",
    "        lambda d: d[\n",
    "            (d['dNormalPrice'] > 1./3) &\n",
    "            (d['dNormalPrice'] < 3.)\n",
    "        ]\n",
    "    )\n",
    "    .drop(columns=['dNormalPrice'])\n",
    ")"
   ]
  },
  {
   "cell_type": "markdown",
   "metadata": {},
   "source": [
    "Next, we understand that this retail seller has a wide range of products and elasticity for each of them might be different. Therefore, we group the data by stockcode, date and country. "
   ]
  },
  {
   "cell_type": "code",
   "execution_count": 12,
   "metadata": {},
   "outputs": [],
   "source": [
    "df['InvoiceDate'] = pd.to_datetime(df.InvoiceDate)\n",
    "df['Date'] = pd.to_datetime(df.InvoiceDate.dt.date)\n",
    "df['revenue'] = df.Quantity * df.UnitPrice\n",
    "\n",
    "df = df.groupby(['Date', 'StockCode', 'Country'], as_index=False).agg({\n",
    "    'Description': 'first',\n",
    "    'Quantity': 'sum', \n",
    "    'revenue': 'sum'\n",
    "})\n",
    "df['Description'] = df.groupby('StockCode').Description.transform('first')\n",
    "\n",
    "df['UnitPrice'] = df['revenue'] / df['Quantity'] # implicit quantity-weighted avg of prices"
   ]
  },
  {
   "cell_type": "code",
   "execution_count": 13,
   "metadata": {},
   "outputs": [],
   "source": [
    "df.to_parquet('ecom_sample_clean.parquet')"
   ]
  },
  {
   "cell_type": "code",
   "execution_count": null,
   "metadata": {},
   "outputs": [],
   "source": []
  },
  {
   "cell_type": "code",
   "execution_count": null,
   "metadata": {},
   "outputs": [],
   "source": []
  },
  {
   "cell_type": "code",
   "execution_count": null,
   "metadata": {},
   "outputs": [],
   "source": []
  },
  {
   "cell_type": "code",
   "execution_count": null,
   "metadata": {},
   "outputs": [],
   "source": []
  },
  {
   "cell_type": "code",
   "execution_count": null,
   "metadata": {},
   "outputs": [],
   "source": []
  },
  {
   "cell_type": "code",
   "execution_count": null,
   "metadata": {},
   "outputs": [],
   "source": [
    "feature_generator = ColumnTransformer(\n",
    "    [\n",
    "        ('item_id', OneHotEncoder(), ['item_id']), \n",
    "        ('date', OneHotEncoder(), ['date']),\n",
    "        ('item_description', \n",
    "             CountVectorizer(min_df=0.05, ngram_range=(1, 3)), \n",
    "             'item_description'),\n",
    "        ('numeric_feats', StandardScaler(), \n",
    "             ['day_of_week', 'stock_age_in_days'])\n",
    "    ], remainder='drop'\n",
    ")\n",
    "\n",
    "model_q = Pipeline([\n",
    "    ('feat_proc', feature_generator),\n",
    "    ('model_q', RandomForestRegressor()) \n",
    "])\n",
    "model_p = Pipeline([\n",
    "    ('feat_proc', feature_generator),\n",
    "    ('model_p', RandomForestRegressor())\n",
    "])"
   ]
  },
  {
   "cell_type": "code",
   "execution_count": null,
   "metadata": {},
   "outputs": [],
   "source": [
    "# Since Q might be 0, can't just take logs. This is a quick\n",
    "# workaround for demonstration. Better options exist.\n",
    "df_mdl['LnP'] = np.log1p(df_mdl['P'])\n",
    "df_mdl['LnQ'] = np.log1p(df_mdl['Q'])\n",
    "elast_estimates = list()\n",
    "\n",
    "# Step 1: split into two halves\n",
    "for idx_aux, idx_inf in KFold(\n",
    "    n_splits=2, shuffle=True).split(df_mdl):\n",
    "    \n",
    "    df_aux = df_mdl.iloc[idx_aux]\n",
    "    df_inf = df_mdl.iloc[idx_inf].copy()\n",
    "    \n",
    "    # Step 2+3: fit auxiliary models on first half\n",
    "    model_q.fit(df_aux, df_aux['LnQ'])\n",
    "    model_p.fit(df_aux, df_aux['LnP'])\n",
    "    \n",
    "    # Step 4: residualize in second half\n",
    "    df_inf = df_inf.assign(\n",
    "        LnP_res = df_inf['LnP'] - model_p.predict(df_inf),\n",
    "        LnQ_res = df_inf['LnQ'] - model_q.predict(df_inf),\n",
    "    )\n",
    "    \n",
    "   # Step 5: DML inference\n",
    "    elast = (\n",
    "        df_inf['LnP_res'].dot(df_inf['LnQ_res'])\n",
    "        /\n",
    "        df_inf['LnP_res'].dot(df_inf['LnP'])\n",
    "        # the last part here deviates from standard OLS solution\n",
    "    )\n",
    "    \n",
    "    print('DML elasticity:', elast)\n",
    "    elast_estimates.append(elast)\n",
    "\n",
    "    print('OLS elasticity for comparison:',\n",
    "        df_inf['LnP_res'].dot(df_inf['LnQ_res'])\n",
    "        /\n",
    "        df_inf['LnP_res'].dot(df_inf['LnP_res'])\n",
    "    )    \n",
    "\n",
    "# Step 6: Take the mean of both estimates\n",
    "print(\"DML efficient estimate of elasticity:\", np.mean(elast_estimates))"
   ]
  },
  {
   "cell_type": "code",
   "execution_count": null,
   "metadata": {},
   "outputs": [],
   "source": []
  }
 ],
 "metadata": {
  "kernelspec": {
   "display_name": "Python 3",
   "language": "python",
   "name": "python3"
  },
  "language_info": {
   "codemirror_mode": {
    "name": "ipython",
    "version": 3
   },
   "file_extension": ".py",
   "mimetype": "text/x-python",
   "name": "python",
   "nbconvert_exporter": "python",
   "pygments_lexer": "ipython3",
   "version": "3.7.3"
  }
 },
 "nbformat": 4,
 "nbformat_minor": 2
}
