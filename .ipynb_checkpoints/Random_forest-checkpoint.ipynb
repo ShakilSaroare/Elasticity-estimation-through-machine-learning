{
 "cells": [
  {
   "cell_type": "code",
   "execution_count": null,
   "metadata": {},
   "outputs": [],
   "source": [
    "from sklearn.pipeline import Pipeline\n",
    "from sklearn.compose import ColumnTransformer\n",
    "from sklearn.preprocessing import OneHotEncoder, StandardScaler\n",
    "from sklearn.feature_extraction.text import CountVectorizer\n",
    "from sklearn.ensemble import RandomForestRegressor\n",
    "\n",
    "feature_generator = ColumnTransformer(\n",
    "    [\n",
    "        ('item_id', OneHotEncoder(), ['item_id']), \n",
    "        ('date', OneHotEncoder(), ['date']),\n",
    "        ('item_description', \n",
    "             CountVectorizer(min_df=0.05, ngram_range=(1, 3)), \n",
    "             'item_description'),\n",
    "        ('numeric_feats', StandardScaler(), \n",
    "             ['day_of_week', 'stock_age_in_days'])\n",
    "    ], remainder='drop'\n",
    ")\n",
    "\n",
    "model_q = Pipeline([\n",
    "    ('feat_proc', feature_generator),\n",
    "    ('model_q', RandomForestRegressor()) \n",
    "])\n",
    "model_p = Pipeline([\n",
    "    ('feat_proc', feature_generator),\n",
    "    ('model_p', RandomForestRegressor())\n",
    "])"
   ]
  },
  {
   "cell_type": "code",
   "execution_count": null,
   "metadata": {},
   "outputs": [],
   "source": [
    "from sklearn.model_selection import KFold\n",
    "\n",
    "# Since Q might be 0, can't just take logs. This is a quick\n",
    "# workaround for demonstration. Better options exist.\n",
    "df_mdl['LnP'] = np.log1p(df_mdl['P'])\n",
    "df_mdl['LnQ'] = np.log1p(df_mdl['Q'])\n",
    "elast_estimates = list()\n",
    "\n",
    "# Step 1: split into two halves\n",
    "for idx_aux, idx_inf in KFold(\n",
    "    n_splits=2, shuffle=True).split(df_mdl):\n",
    "    \n",
    "    df_aux = df_mdl.iloc[idx_aux]\n",
    "    df_inf = df_mdl.iloc[idx_inf].copy()\n",
    "    \n",
    "    # Step 2+3: fit auxiliary models on first half\n",
    "    model_q.fit(df_aux, df_aux['LnQ'])\n",
    "    model_p.fit(df_aux, df_aux['LnP'])\n",
    "    \n",
    "    # Step 4: residualize in second half\n",
    "    df_inf = df_inf.assign(\n",
    "        LnP_res = df_inf['LnP'] - model_p.predict(df_inf),\n",
    "        LnQ_res = df_inf['LnQ'] - model_q.predict(df_inf),\n",
    "    )\n",
    "    \n",
    "   # Step 5: DML inference\n",
    "    elast = (\n",
    "        df_inf['LnP_res'].dot(df_inf['LnQ_res'])\n",
    "        /\n",
    "        df_inf['LnP_res'].dot(df_inf['LnP'])\n",
    "        # the last part here deviates from standard OLS solution\n",
    "    )\n",
    "    \n",
    "    print('DML elasticity:', elast)\n",
    "    elast_estimates.append(elast)\n",
    "\n",
    "    print('OLS elasticity for comparison:',\n",
    "        df_inf['LnP_res'].dot(df_inf['LnQ_res'])\n",
    "        /\n",
    "        df_inf['LnP_res'].dot(df_inf['LnP_res'])\n",
    "    )    \n",
    "\n",
    "# Step 6: Take the mean of both estimates\n",
    "print(\"DML efficient estimate of elasticity:\", np.mean(elast_estimates))"
   ]
  },
  {
   "cell_type": "code",
   "execution_count": null,
   "metadata": {},
   "outputs": [],
   "source": []
  }
 ],
 "metadata": {
  "kernelspec": {
   "display_name": "Python 3",
   "language": "python",
   "name": "python3"
  },
  "language_info": {
   "codemirror_mode": {
    "name": "ipython",
    "version": 3
   },
   "file_extension": ".py",
   "mimetype": "text/x-python",
   "name": "python",
   "nbconvert_exporter": "python",
   "pygments_lexer": "ipython3",
   "version": "3.7.3"
  }
 },
 "nbformat": 4,
 "nbformat_minor": 2
}
