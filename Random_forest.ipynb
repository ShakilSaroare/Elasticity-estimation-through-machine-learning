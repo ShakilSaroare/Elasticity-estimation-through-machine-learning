{
 "cells": [
  {
   "cell_type": "markdown",
   "metadata": {},
   "source": [
    "# Estimating elasticities with Random Forest"
   ]
  },
  {
   "cell_type": "markdown",
   "metadata": {},
   "source": [
    "This is a project that concerns the application of machine learning (ML) in causal inference. Here, in particular, we are going to apply one of the most pervasively used ML methods, Random Forest, to estimate price elasticity for Fullfilment BY Amazon (FBA) retailer. Let us start by loading necessary packages first.  "
   ]
  },
  {
   "cell_type": "code",
   "execution_count": 1,
   "metadata": {},
   "outputs": [],
   "source": [
    "import pandas as pd, numpy as np\n",
    "from datetime import datetime, date\n",
    "from matplotlib import pyplot as plt\n",
    "import seaborn as sns\n",
    "\n",
    "from sklearn.pipeline import Pipeline\n",
    "from sklearn.compose import ColumnTransformer\n",
    "from sklearn.preprocessing import OneHotEncoder, StandardScaler\n",
    "from sklearn.feature_extraction.text import CountVectorizer\n",
    "from sklearn.ensemble import RandomForestRegressor\n",
    "from sklearn.model_selection import KFold"
   ]
  },
  {
   "cell_type": "markdown",
   "metadata": {},
   "source": [
    "The dataset in use here is a publicly available data which is available [here](https://www.kaggle.com/vijayuv/onlineretail). Let's have a snippet at the dataset:"
   ]
  },
  {
   "cell_type": "code",
   "execution_count": 2,
   "metadata": {},
   "outputs": [
    {
     "data": {
      "text/html": [
       "<div>\n",
       "<style scoped>\n",
       "    .dataframe tbody tr th:only-of-type {\n",
       "        vertical-align: middle;\n",
       "    }\n",
       "\n",
       "    .dataframe tbody tr th {\n",
       "        vertical-align: top;\n",
       "    }\n",
       "\n",
       "    .dataframe thead th {\n",
       "        text-align: right;\n",
       "    }\n",
       "</style>\n",
       "<table border=\"1\" class=\"dataframe\">\n",
       "  <thead>\n",
       "    <tr style=\"text-align: right;\">\n",
       "      <th></th>\n",
       "      <th>InvoiceNo</th>\n",
       "      <th>StockCode</th>\n",
       "      <th>Description</th>\n",
       "      <th>Quantity</th>\n",
       "      <th>InvoiceDate</th>\n",
       "      <th>UnitPrice</th>\n",
       "      <th>CustomerID</th>\n",
       "      <th>Country</th>\n",
       "    </tr>\n",
       "  </thead>\n",
       "  <tbody>\n",
       "    <tr>\n",
       "      <th>63472</th>\n",
       "      <td>541571</td>\n",
       "      <td>22668</td>\n",
       "      <td>PINK BABY BUNTING</td>\n",
       "      <td>5</td>\n",
       "      <td>1/19/2011 12:38</td>\n",
       "      <td>2.95</td>\n",
       "      <td>12841.0</td>\n",
       "      <td>United Kingdom</td>\n",
       "    </tr>\n",
       "    <tr>\n",
       "      <th>276582</th>\n",
       "      <td>561064</td>\n",
       "      <td>82484</td>\n",
       "      <td>WOOD BLACK BOARD ANT WHITE FINISH</td>\n",
       "      <td>4</td>\n",
       "      <td>7/24/2011 14:16</td>\n",
       "      <td>7.95</td>\n",
       "      <td>18109.0</td>\n",
       "      <td>United Kingdom</td>\n",
       "    </tr>\n",
       "    <tr>\n",
       "      <th>147081</th>\n",
       "      <td>549053</td>\n",
       "      <td>22281</td>\n",
       "      <td>EASTER TREE YELLOW BIRDS</td>\n",
       "      <td>2</td>\n",
       "      <td>4/6/2011 10:20</td>\n",
       "      <td>5.95</td>\n",
       "      <td>13863.0</td>\n",
       "      <td>United Kingdom</td>\n",
       "    </tr>\n",
       "    <tr>\n",
       "      <th>23783</th>\n",
       "      <td>538248</td>\n",
       "      <td>21787</td>\n",
       "      <td>RAIN PONCHO RETROSPOT</td>\n",
       "      <td>2</td>\n",
       "      <td>12/10/2010 12:14</td>\n",
       "      <td>0.85</td>\n",
       "      <td>18116.0</td>\n",
       "      <td>United Kingdom</td>\n",
       "    </tr>\n",
       "    <tr>\n",
       "      <th>362877</th>\n",
       "      <td>568527</td>\n",
       "      <td>16161P</td>\n",
       "      <td>WRAP ENGLISH ROSE</td>\n",
       "      <td>25</td>\n",
       "      <td>9/27/2011 13:21</td>\n",
       "      <td>0.42</td>\n",
       "      <td>13178.0</td>\n",
       "      <td>United Kingdom</td>\n",
       "    </tr>\n",
       "    <tr>\n",
       "      <th>514938</th>\n",
       "      <td>579751</td>\n",
       "      <td>22776</td>\n",
       "      <td>SWEETHEART 3 TIER CAKE STAND</td>\n",
       "      <td>1</td>\n",
       "      <td>11/30/2011 14:46</td>\n",
       "      <td>19.96</td>\n",
       "      <td>NaN</td>\n",
       "      <td>United Kingdom</td>\n",
       "    </tr>\n",
       "    <tr>\n",
       "      <th>263988</th>\n",
       "      <td>560049</td>\n",
       "      <td>22853</td>\n",
       "      <td>CAT BOWL VINTAGE CREAM</td>\n",
       "      <td>6</td>\n",
       "      <td>7/14/2011 15:03</td>\n",
       "      <td>3.25</td>\n",
       "      <td>14857.0</td>\n",
       "      <td>United Kingdom</td>\n",
       "    </tr>\n",
       "    <tr>\n",
       "      <th>176651</th>\n",
       "      <td>C552012</td>\n",
       "      <td>23183</td>\n",
       "      <td>MOTHER'S KITCHEN SPOON REST</td>\n",
       "      <td>-6</td>\n",
       "      <td>5/5/2011 17:29</td>\n",
       "      <td>3.75</td>\n",
       "      <td>13552.0</td>\n",
       "      <td>United Kingdom</td>\n",
       "    </tr>\n",
       "    <tr>\n",
       "      <th>269960</th>\n",
       "      <td>560535</td>\n",
       "      <td>82486</td>\n",
       "      <td>WOOD S/3 CABINET ANT WHITE FINISH</td>\n",
       "      <td>2</td>\n",
       "      <td>7/19/2011 12:13</td>\n",
       "      <td>8.95</td>\n",
       "      <td>13167.0</td>\n",
       "      <td>United Kingdom</td>\n",
       "    </tr>\n",
       "    <tr>\n",
       "      <th>167205</th>\n",
       "      <td>550986</td>\n",
       "      <td>22321</td>\n",
       "      <td>BIRD DECORATION RED RETROSPOT</td>\n",
       "      <td>1</td>\n",
       "      <td>4/21/2011 18:06</td>\n",
       "      <td>1.63</td>\n",
       "      <td>NaN</td>\n",
       "      <td>United Kingdom</td>\n",
       "    </tr>\n",
       "  </tbody>\n",
       "</table>\n",
       "</div>"
      ],
      "text/plain": [
       "       InvoiceNo StockCode                        Description  Quantity  \\\n",
       "63472     541571     22668                  PINK BABY BUNTING         5   \n",
       "276582    561064     82484  WOOD BLACK BOARD ANT WHITE FINISH         4   \n",
       "147081    549053     22281           EASTER TREE YELLOW BIRDS         2   \n",
       "23783     538248     21787              RAIN PONCHO RETROSPOT         2   \n",
       "362877    568527    16161P                 WRAP ENGLISH ROSE         25   \n",
       "514938    579751     22776      SWEETHEART 3 TIER CAKE STAND          1   \n",
       "263988    560049     22853             CAT BOWL VINTAGE CREAM         6   \n",
       "176651   C552012     23183       MOTHER'S KITCHEN SPOON REST         -6   \n",
       "269960    560535     82486  WOOD S/3 CABINET ANT WHITE FINISH         2   \n",
       "167205    550986     22321      BIRD DECORATION RED RETROSPOT         1   \n",
       "\n",
       "             InvoiceDate  UnitPrice  CustomerID         Country  \n",
       "63472    1/19/2011 12:38       2.95     12841.0  United Kingdom  \n",
       "276582   7/24/2011 14:16       7.95     18109.0  United Kingdom  \n",
       "147081    4/6/2011 10:20       5.95     13863.0  United Kingdom  \n",
       "23783   12/10/2010 12:14       0.85     18116.0  United Kingdom  \n",
       "362877   9/27/2011 13:21       0.42     13178.0  United Kingdom  \n",
       "514938  11/30/2011 14:46      19.96         NaN  United Kingdom  \n",
       "263988   7/14/2011 15:03       3.25     14857.0  United Kingdom  \n",
       "176651    5/5/2011 17:29       3.75     13552.0  United Kingdom  \n",
       "269960   7/19/2011 12:13       8.95     13167.0  United Kingdom  \n",
       "167205   4/21/2011 18:06       1.63         NaN  United Kingdom  "
      ]
     },
     "execution_count": 2,
     "metadata": {},
     "output_type": "execute_result"
    }
   ],
   "source": [
    "df = pd.read_csv('E:\\Jupyter_files\\OnlineRetail.csv')\n",
    "\n",
    "df.sample(10)"
   ]
  },
  {
   "cell_type": "markdown",
   "metadata": {},
   "source": [
    "As we are going to estimate elasticity, quantity and price are thwo variables that we are mostly concerned with. Let's look at some descriptive statistics of these two variables. "
   ]
  },
  {
   "cell_type": "code",
   "execution_count": 3,
   "metadata": {},
   "outputs": [
    {
     "data": {
      "text/html": [
       "<div>\n",
       "<style scoped>\n",
       "    .dataframe tbody tr th:only-of-type {\n",
       "        vertical-align: middle;\n",
       "    }\n",
       "\n",
       "    .dataframe tbody tr th {\n",
       "        vertical-align: top;\n",
       "    }\n",
       "\n",
       "    .dataframe thead th {\n",
       "        text-align: right;\n",
       "    }\n",
       "</style>\n",
       "<table border=\"1\" class=\"dataframe\">\n",
       "  <thead>\n",
       "    <tr style=\"text-align: right;\">\n",
       "      <th></th>\n",
       "      <th>count</th>\n",
       "      <th>mean</th>\n",
       "      <th>std</th>\n",
       "      <th>min</th>\n",
       "      <th>25%</th>\n",
       "      <th>50%</th>\n",
       "      <th>75%</th>\n",
       "      <th>max</th>\n",
       "    </tr>\n",
       "  </thead>\n",
       "  <tbody>\n",
       "    <tr>\n",
       "      <th>Quantity</th>\n",
       "      <td>541909.0</td>\n",
       "      <td>9.552250</td>\n",
       "      <td>218.081158</td>\n",
       "      <td>-80995.00</td>\n",
       "      <td>1.00</td>\n",
       "      <td>3.00</td>\n",
       "      <td>10.00</td>\n",
       "      <td>80995.0</td>\n",
       "    </tr>\n",
       "    <tr>\n",
       "      <th>UnitPrice</th>\n",
       "      <td>541909.0</td>\n",
       "      <td>4.611114</td>\n",
       "      <td>96.759853</td>\n",
       "      <td>-11062.06</td>\n",
       "      <td>1.25</td>\n",
       "      <td>2.08</td>\n",
       "      <td>4.13</td>\n",
       "      <td>38970.0</td>\n",
       "    </tr>\n",
       "  </tbody>\n",
       "</table>\n",
       "</div>"
      ],
      "text/plain": [
       "              count      mean         std       min   25%   50%    75%  \\\n",
       "Quantity   541909.0  9.552250  218.081158 -80995.00  1.00  3.00  10.00   \n",
       "UnitPrice  541909.0  4.611114   96.759853 -11062.06  1.25  2.08   4.13   \n",
       "\n",
       "               max  \n",
       "Quantity   80995.0  \n",
       "UnitPrice  38970.0  "
      ]
     },
     "execution_count": 3,
     "metadata": {},
     "output_type": "execute_result"
    }
   ],
   "source": [
    "pd.DataFrame([df.Quantity.describe(),df.UnitPrice.describe()])"
   ]
  },
  {
   "cell_type": "markdown",
   "metadata": {},
   "source": [
    "It looks like that we need to deal with outliers on both side. First of all, the smallest values for both the variables are negative, which doesn't fall within the feasible range. May be it's the entries for returns from customers. Let's just get rid of such negative entries first from the datafarme."
   ]
  },
  {
   "cell_type": "code",
   "execution_count": 4,
   "metadata": {},
   "outputs": [
    {
     "data": {
      "text/html": [
       "<div>\n",
       "<style scoped>\n",
       "    .dataframe tbody tr th:only-of-type {\n",
       "        vertical-align: middle;\n",
       "    }\n",
       "\n",
       "    .dataframe tbody tr th {\n",
       "        vertical-align: top;\n",
       "    }\n",
       "\n",
       "    .dataframe thead th {\n",
       "        text-align: right;\n",
       "    }\n",
       "</style>\n",
       "<table border=\"1\" class=\"dataframe\">\n",
       "  <thead>\n",
       "    <tr style=\"text-align: right;\">\n",
       "      <th></th>\n",
       "      <th>count</th>\n",
       "      <th>mean</th>\n",
       "      <th>std</th>\n",
       "      <th>min</th>\n",
       "      <th>25%</th>\n",
       "      <th>50%</th>\n",
       "      <th>75%</th>\n",
       "      <th>max</th>\n",
       "    </tr>\n",
       "  </thead>\n",
       "  <tbody>\n",
       "    <tr>\n",
       "      <th>Quantity</th>\n",
       "      <td>530104.0</td>\n",
       "      <td>10.542037</td>\n",
       "      <td>155.524124</td>\n",
       "      <td>1.000</td>\n",
       "      <td>1.00</td>\n",
       "      <td>3.00</td>\n",
       "      <td>10.00</td>\n",
       "      <td>80995.00</td>\n",
       "    </tr>\n",
       "    <tr>\n",
       "      <th>UnitPrice</th>\n",
       "      <td>530104.0</td>\n",
       "      <td>3.907625</td>\n",
       "      <td>35.915681</td>\n",
       "      <td>0.001</td>\n",
       "      <td>1.25</td>\n",
       "      <td>2.08</td>\n",
       "      <td>4.13</td>\n",
       "      <td>13541.33</td>\n",
       "    </tr>\n",
       "  </tbody>\n",
       "</table>\n",
       "</div>"
      ],
      "text/plain": [
       "              count       mean         std    min   25%   50%    75%       max\n",
       "Quantity   530104.0  10.542037  155.524124  1.000  1.00  3.00  10.00  80995.00\n",
       "UnitPrice  530104.0   3.907625   35.915681  0.001  1.25  2.08   4.13  13541.33"
      ]
     },
     "execution_count": 4,
     "metadata": {},
     "output_type": "execute_result"
    }
   ],
   "source": [
    "df = df[\n",
    "    (df.Quantity > 0) &\n",
    "    (df.UnitPrice > 0)\n",
    "]\n",
    "pd.DataFrame([df.Quantity.describe(),df.UnitPrice.describe()])"
   ]
  },
  {
   "cell_type": "markdown",
   "metadata": {},
   "source": [
    "Description column of the dataset is a great way to understand the entries. Fortunately, StockCode gives us some non-numerical values which are suspect for not being sells entries. Let's try and find out those entries first. "
   ]
  },
  {
   "cell_type": "code",
   "execution_count": 5,
   "metadata": {},
   "outputs": [
    {
     "data": {
      "text/plain": [
       "array(['POST', 'C2', 'DOT', 'M', 'BANK CHARGES', 'AMAZONFEE', 'DCGS0076',\n",
       "       'DCGS0003', 'gift_0001_40', 'DCGS0070', 'm', 'gift_0001_50',\n",
       "       'gift_0001_30', 'gift_0001_20', 'DCGS0069', 'DCGSSBOY',\n",
       "       'DCGSSGIRL', 'gift_0001_10', 'S', 'PADS', 'DCGS0004', 'B'],\n",
       "      dtype=object)"
      ]
     },
     "execution_count": 5,
     "metadata": {},
     "output_type": "execute_result"
    }
   ],
   "source": [
    "df[~df[\"StockCode\"].str[0].str.isnumeric()].StockCode.unique()"
   ]
  },
  {
   "cell_type": "markdown",
   "metadata": {},
   "source": [
    "Our next step is to carefully investigate all such entries and determine which ones are not sales record from the description column. Then we get rid of those rows from the dataframe. "
   ]
  },
  {
   "cell_type": "code",
   "execution_count": 6,
   "metadata": {},
   "outputs": [],
   "source": [
    "df = df[~df.StockCode.isin(['POST', 'DOT', 'M', 'AMAZONFEE', 'BANK CHARGES', 'C2', 'B', 'S'])]"
   ]
  },
  {
   "cell_type": "markdown",
   "metadata": {},
   "source": [
    "Now, we need to take care of a couple of things now. First, let's try to deal with the outliers on the upper side. "
   ]
  },
  {
   "cell_type": "code",
   "execution_count": 7,
   "metadata": {},
   "outputs": [
    {
     "data": {
      "text/html": [
       "<div>\n",
       "<style scoped>\n",
       "    .dataframe tbody tr th:only-of-type {\n",
       "        vertical-align: middle;\n",
       "    }\n",
       "\n",
       "    .dataframe tbody tr th {\n",
       "        vertical-align: top;\n",
       "    }\n",
       "\n",
       "    .dataframe thead th {\n",
       "        text-align: right;\n",
       "    }\n",
       "</style>\n",
       "<table border=\"1\" class=\"dataframe\">\n",
       "  <thead>\n",
       "    <tr style=\"text-align: right;\">\n",
       "      <th></th>\n",
       "      <th>InvoiceNo</th>\n",
       "      <th>StockCode</th>\n",
       "      <th>Description</th>\n",
       "      <th>Quantity</th>\n",
       "      <th>InvoiceDate</th>\n",
       "      <th>UnitPrice</th>\n",
       "      <th>CustomerID</th>\n",
       "      <th>Country</th>\n",
       "    </tr>\n",
       "  </thead>\n",
       "  <tbody>\n",
       "    <tr>\n",
       "      <th>540421</th>\n",
       "      <td>581483</td>\n",
       "      <td>23843</td>\n",
       "      <td>PAPER CRAFT , LITTLE BIRDIE</td>\n",
       "      <td>80995</td>\n",
       "      <td>12/9/2011 9:15</td>\n",
       "      <td>2.08</td>\n",
       "      <td>16446.0</td>\n",
       "      <td>United Kingdom</td>\n",
       "    </tr>\n",
       "    <tr>\n",
       "      <th>61619</th>\n",
       "      <td>541431</td>\n",
       "      <td>23166</td>\n",
       "      <td>MEDIUM CERAMIC TOP STORAGE JAR</td>\n",
       "      <td>74215</td>\n",
       "      <td>1/18/2011 10:01</td>\n",
       "      <td>1.04</td>\n",
       "      <td>12346.0</td>\n",
       "      <td>United Kingdom</td>\n",
       "    </tr>\n",
       "    <tr>\n",
       "      <th>421632</th>\n",
       "      <td>573008</td>\n",
       "      <td>84077</td>\n",
       "      <td>WORLD WAR 2 GLIDERS ASSTD DESIGNS</td>\n",
       "      <td>4800</td>\n",
       "      <td>10/27/2011 12:26</td>\n",
       "      <td>0.21</td>\n",
       "      <td>12901.0</td>\n",
       "      <td>United Kingdom</td>\n",
       "    </tr>\n",
       "    <tr>\n",
       "      <th>206121</th>\n",
       "      <td>554868</td>\n",
       "      <td>22197</td>\n",
       "      <td>SMALL POPCORN HOLDER</td>\n",
       "      <td>4300</td>\n",
       "      <td>5/27/2011 10:52</td>\n",
       "      <td>0.72</td>\n",
       "      <td>13135.0</td>\n",
       "      <td>United Kingdom</td>\n",
       "    </tr>\n",
       "    <tr>\n",
       "      <th>97432</th>\n",
       "      <td>544612</td>\n",
       "      <td>22053</td>\n",
       "      <td>EMPIRE DESIGN ROSETTE</td>\n",
       "      <td>3906</td>\n",
       "      <td>2/22/2011 10:43</td>\n",
       "      <td>0.82</td>\n",
       "      <td>18087.0</td>\n",
       "      <td>United Kingdom</td>\n",
       "    </tr>\n",
       "  </tbody>\n",
       "</table>\n",
       "</div>"
      ],
      "text/plain": [
       "       InvoiceNo StockCode                        Description  Quantity  \\\n",
       "540421    581483     23843        PAPER CRAFT , LITTLE BIRDIE     80995   \n",
       "61619     541431     23166     MEDIUM CERAMIC TOP STORAGE JAR     74215   \n",
       "421632    573008     84077  WORLD WAR 2 GLIDERS ASSTD DESIGNS      4800   \n",
       "206121    554868     22197               SMALL POPCORN HOLDER      4300   \n",
       "97432     544612     22053              EMPIRE DESIGN ROSETTE      3906   \n",
       "\n",
       "             InvoiceDate  UnitPrice  CustomerID         Country  \n",
       "540421    12/9/2011 9:15       2.08     16446.0  United Kingdom  \n",
       "61619    1/18/2011 10:01       1.04     12346.0  United Kingdom  \n",
       "421632  10/27/2011 12:26       0.21     12901.0  United Kingdom  \n",
       "206121   5/27/2011 10:52       0.72     13135.0  United Kingdom  \n",
       "97432    2/22/2011 10:43       0.82     18087.0  United Kingdom  "
      ]
     },
     "execution_count": 7,
     "metadata": {},
     "output_type": "execute_result"
    }
   ],
   "source": [
    "df.nlargest(5, columns='Quantity')"
   ]
  },
  {
   "cell_type": "code",
   "execution_count": 8,
   "metadata": {},
   "outputs": [
    {
     "data": {
      "text/html": [
       "<div>\n",
       "<style scoped>\n",
       "    .dataframe tbody tr th:only-of-type {\n",
       "        vertical-align: middle;\n",
       "    }\n",
       "\n",
       "    .dataframe tbody tr th {\n",
       "        vertical-align: top;\n",
       "    }\n",
       "\n",
       "    .dataframe thead th {\n",
       "        text-align: right;\n",
       "    }\n",
       "</style>\n",
       "<table border=\"1\" class=\"dataframe\">\n",
       "  <thead>\n",
       "    <tr style=\"text-align: right;\">\n",
       "      <th></th>\n",
       "      <th>InvoiceNo</th>\n",
       "      <th>StockCode</th>\n",
       "      <th>Description</th>\n",
       "      <th>Quantity</th>\n",
       "      <th>InvoiceDate</th>\n",
       "      <th>UnitPrice</th>\n",
       "      <th>CustomerID</th>\n",
       "      <th>Country</th>\n",
       "    </tr>\n",
       "  </thead>\n",
       "  <tbody>\n",
       "    <tr>\n",
       "      <th>222680</th>\n",
       "      <td>556444</td>\n",
       "      <td>22502</td>\n",
       "      <td>PICNIC BASKET WICKER 60 PIECES</td>\n",
       "      <td>60</td>\n",
       "      <td>6/10/2011 15:28</td>\n",
       "      <td>649.5</td>\n",
       "      <td>15098.0</td>\n",
       "      <td>United Kingdom</td>\n",
       "    </tr>\n",
       "    <tr>\n",
       "      <th>222682</th>\n",
       "      <td>556446</td>\n",
       "      <td>22502</td>\n",
       "      <td>PICNIC BASKET WICKER 60 PIECES</td>\n",
       "      <td>1</td>\n",
       "      <td>6/10/2011 15:33</td>\n",
       "      <td>649.5</td>\n",
       "      <td>15098.0</td>\n",
       "      <td>United Kingdom</td>\n",
       "    </tr>\n",
       "    <tr>\n",
       "      <th>4989</th>\n",
       "      <td>536835</td>\n",
       "      <td>22655</td>\n",
       "      <td>VINTAGE RED KITCHEN CABINET</td>\n",
       "      <td>1</td>\n",
       "      <td>12/2/2010 18:06</td>\n",
       "      <td>295.0</td>\n",
       "      <td>13145.0</td>\n",
       "      <td>United Kingdom</td>\n",
       "    </tr>\n",
       "    <tr>\n",
       "      <th>32484</th>\n",
       "      <td>539080</td>\n",
       "      <td>22655</td>\n",
       "      <td>VINTAGE RED KITCHEN CABINET</td>\n",
       "      <td>1</td>\n",
       "      <td>12/16/2010 8:41</td>\n",
       "      <td>295.0</td>\n",
       "      <td>16607.0</td>\n",
       "      <td>United Kingdom</td>\n",
       "    </tr>\n",
       "    <tr>\n",
       "      <th>51636</th>\n",
       "      <td>540647</td>\n",
       "      <td>22655</td>\n",
       "      <td>VINTAGE RED KITCHEN CABINET</td>\n",
       "      <td>1</td>\n",
       "      <td>1/10/2011 14:57</td>\n",
       "      <td>295.0</td>\n",
       "      <td>17406.0</td>\n",
       "      <td>United Kingdom</td>\n",
       "    </tr>\n",
       "  </tbody>\n",
       "</table>\n",
       "</div>"
      ],
      "text/plain": [
       "       InvoiceNo StockCode                     Description  Quantity  \\\n",
       "222680    556444     22502  PICNIC BASKET WICKER 60 PIECES        60   \n",
       "222682    556446     22502  PICNIC BASKET WICKER 60 PIECES         1   \n",
       "4989      536835     22655     VINTAGE RED KITCHEN CABINET         1   \n",
       "32484     539080     22655     VINTAGE RED KITCHEN CABINET         1   \n",
       "51636     540647     22655     VINTAGE RED KITCHEN CABINET         1   \n",
       "\n",
       "            InvoiceDate  UnitPrice  CustomerID         Country  \n",
       "222680  6/10/2011 15:28      649.5     15098.0  United Kingdom  \n",
       "222682  6/10/2011 15:33      649.5     15098.0  United Kingdom  \n",
       "4989    12/2/2010 18:06      295.0     13145.0  United Kingdom  \n",
       "32484   12/16/2010 8:41      295.0     16607.0  United Kingdom  \n",
       "51636   1/10/2011 14:57      295.0     17406.0  United Kingdom  "
      ]
     },
     "execution_count": 8,
     "metadata": {},
     "output_type": "execute_result"
    }
   ],
   "source": [
    "df.nlargest(5, columns='UnitPrice')"
   ]
  },
  {
   "cell_type": "code",
   "execution_count": 9,
   "metadata": {},
   "outputs": [
    {
     "data": {
      "text/html": [
       "<div>\n",
       "<style scoped>\n",
       "    .dataframe tbody tr th:only-of-type {\n",
       "        vertical-align: middle;\n",
       "    }\n",
       "\n",
       "    .dataframe tbody tr th {\n",
       "        vertical-align: top;\n",
       "    }\n",
       "\n",
       "    .dataframe thead th {\n",
       "        text-align: right;\n",
       "    }\n",
       "</style>\n",
       "<table border=\"1\" class=\"dataframe\">\n",
       "  <thead>\n",
       "    <tr style=\"text-align: right;\">\n",
       "      <th></th>\n",
       "      <th>count</th>\n",
       "      <th>mean</th>\n",
       "      <th>std</th>\n",
       "      <th>min</th>\n",
       "      <th>25%</th>\n",
       "      <th>50%</th>\n",
       "      <th>75%</th>\n",
       "      <th>max</th>\n",
       "    </tr>\n",
       "  </thead>\n",
       "  <tbody>\n",
       "    <tr>\n",
       "      <th>Quantity</th>\n",
       "      <td>527791.0</td>\n",
       "      <td>10.272867</td>\n",
       "      <td>37.732211</td>\n",
       "      <td>1.000</td>\n",
       "      <td>1.00</td>\n",
       "      <td>3.00</td>\n",
       "      <td>11.00</td>\n",
       "      <td>4800.0</td>\n",
       "    </tr>\n",
       "    <tr>\n",
       "      <th>UnitPrice</th>\n",
       "      <td>527791.0</td>\n",
       "      <td>3.266470</td>\n",
       "      <td>4.380817</td>\n",
       "      <td>0.001</td>\n",
       "      <td>1.25</td>\n",
       "      <td>2.08</td>\n",
       "      <td>4.13</td>\n",
       "      <td>649.5</td>\n",
       "    </tr>\n",
       "  </tbody>\n",
       "</table>\n",
       "</div>"
      ],
      "text/plain": [
       "              count       mean        std    min   25%   50%    75%     max\n",
       "Quantity   527791.0  10.272867  37.732211  1.000  1.00  3.00  11.00  4800.0\n",
       "UnitPrice  527791.0   3.266470   4.380817  0.001  1.25  2.08   4.13   649.5"
      ]
     },
     "execution_count": 9,
     "metadata": {},
     "output_type": "execute_result"
    }
   ],
   "source": [
    "df = df[~df.InvoiceNo.isin([\"581483\",\"541431\"])]\n",
    "pd.DataFrame([df.Quantity.describe(),df.UnitPrice.describe()])"
   ]
  },
  {
   "cell_type": "markdown",
   "metadata": {},
   "source": [
    "Now, merely looking into the UnitPrice in the table above, the jump from 75th percentile to max generates suspicion. Let us look at this closely."
   ]
  },
  {
   "cell_type": "code",
   "execution_count": 10,
   "metadata": {},
   "outputs": [
    {
     "data": {
      "text/plain": [
       "array([ 46.78,  49.21,  67.31,  73.29,  80.01,  89.96, 110.  , 245.  ,\n",
       "       245.  , 647.5 ])"
      ]
     },
     "execution_count": 10,
     "metadata": {},
     "output_type": "execute_result"
    }
   ],
   "source": [
    "np.sort(df.groupby(\"StockCode\").agg({'UnitPrice': ['min', 'max']})[\"UnitPrice\"][\"max\"]-\n",
    "df.groupby(\"StockCode\").agg({'UnitPrice': ['min', 'max']})[\"UnitPrice\"][\"min\"])[-10:]"
   ]
  },
  {
   "cell_type": "markdown",
   "metadata": {},
   "source": [
    "So, we see that there lies quite a large gap between the minimum and maximum price for a particualr stock code. Considering this data is an eight month observation, this seems like wrong entry or something like that. We clean those data from our dataframe. We are going to use the logic that the price should not be less than one-third of the median price and should not be greater than three times of median. "
   ]
  },
  {
   "cell_type": "code",
   "execution_count": 11,
   "metadata": {},
   "outputs": [],
   "source": [
    "df = (\n",
    "    df\n",
    "    .assign(\n",
    "        dNormalPrice=lambda d: d.UnitPrice \n",
    "            / d.groupby('StockCode').UnitPrice.transform('median') \n",
    "    )\n",
    "    .pipe(\n",
    "        lambda d: d[\n",
    "            (d['dNormalPrice'] > 1./3) &\n",
    "            (d['dNormalPrice'] < 3.)\n",
    "        ]\n",
    "    )\n",
    "    .drop(columns=['dNormalPrice'])\n",
    ")"
   ]
  },
  {
   "cell_type": "code",
   "execution_count": 12,
   "metadata": {},
   "outputs": [
    {
     "data": {
      "text/plain": [
       "<matplotlib.axes._subplots.AxesSubplot at 0x1b919aef0b8>"
      ]
     },
     "execution_count": 12,
     "metadata": {},
     "output_type": "execute_result"
    },
    {
     "data": {
      "image/png": "[encoded data removed]",
      "text/plain": [
       "<Figure size 432x288 with 1 Axes>"
      ]
     },
     "metadata": {
      "needs_background": "light"
     },
     "output_type": "display_data"
    }
   ],
   "source": [
    "sns.distplot(df.groupby('StockCode').UnitPrice.std().dropna().clip(0, 20), kde=False, color = \"maroon\")"
   ]
  },
  {
   "cell_type": "markdown",
   "metadata": {},
   "source": [
    "Next, we understand that this retail seller has a wide range of products and elasticity for each of them might be different. Therefore, we group the data by stockcode, date and country. We save data in .parquet format."
   ]
  },
  {
   "cell_type": "code",
   "execution_count": 13,
   "metadata": {},
   "outputs": [],
   "source": [
    "df['InvoiceDate'] = pd.to_datetime(df.InvoiceDate)\n",
    "df['Date'] = pd.to_datetime(df.InvoiceDate.dt.date)\n",
    "df['revenue'] = df.Quantity * df.UnitPrice\n",
    "\n",
    "df = df.groupby(['Date', 'StockCode', 'Country'], as_index=False).agg({\n",
    "    'Description': 'first',\n",
    "    'Quantity': 'sum', \n",
    "    'revenue': 'sum'\n",
    "})\n",
    "df['Description'] = df.groupby('StockCode').Description.transform('first')\n",
    "\n",
    "df['UnitPrice'] = df['revenue'] / df['Quantity'] # implicit quantity-weighted avg of prices"
   ]
  },
  {
   "cell_type": "code",
   "execution_count": 14,
   "metadata": {},
   "outputs": [],
   "source": [
    "df.to_parquet('ecom_sample_clean.parquet')"
   ]
  },
  {
   "cell_type": "markdown",
   "metadata": {},
   "source": [
    "## Double Machine Learning with Random Forest"
   ]
  },
  {
   "cell_type": "code",
   "execution_count": 2,
   "metadata": {},
   "outputs": [
    {
     "data": {
      "text/html": [
       "<div>\n",
       "<style scoped>\n",
       "    .dataframe tbody tr th:only-of-type {\n",
       "        vertical-align: middle;\n",
       "    }\n",
       "\n",
       "    .dataframe tbody tr th {\n",
       "        vertical-align: top;\n",
       "    }\n",
       "\n",
       "    .dataframe thead th {\n",
       "        text-align: right;\n",
       "    }\n",
       "</style>\n",
       "<table border=\"1\" class=\"dataframe\">\n",
       "  <thead>\n",
       "    <tr style=\"text-align: right;\">\n",
       "      <th></th>\n",
       "      <th></th>\n",
       "      <th></th>\n",
       "      <th>Description</th>\n",
       "      <th>Quantity</th>\n",
       "      <th>revenue</th>\n",
       "      <th>UnitPrice</th>\n",
       "    </tr>\n",
       "    <tr>\n",
       "      <th>Date</th>\n",
       "      <th>StockCode</th>\n",
       "      <th>Country</th>\n",
       "      <th></th>\n",
       "      <th></th>\n",
       "      <th></th>\n",
       "      <th></th>\n",
       "    </tr>\n",
       "  </thead>\n",
       "  <tbody>\n",
       "    <tr>\n",
       "      <th>2011-02-27</th>\n",
       "      <th>22800</th>\n",
       "      <th>United Kingdom</th>\n",
       "      <td>ANTIQUE TALL SWIRLGLASS TRINKET POT</td>\n",
       "      <td>4</td>\n",
       "      <td>15.00</td>\n",
       "      <td>3.750</td>\n",
       "    </tr>\n",
       "    <tr>\n",
       "      <th>2011-12-01</th>\n",
       "      <th>22233</th>\n",
       "      <th>United Kingdom</th>\n",
       "      <td>JIGSAW RABBIT AND BIRDHOUSE</td>\n",
       "      <td>24</td>\n",
       "      <td>14.16</td>\n",
       "      <td>0.590</td>\n",
       "    </tr>\n",
       "    <tr>\n",
       "      <th>2010-12-15</th>\n",
       "      <th>22385</th>\n",
       "      <th>United Kingdom</th>\n",
       "      <td>JUMBO BAG SPACEBOY DESIGN</td>\n",
       "      <td>2</td>\n",
       "      <td>3.90</td>\n",
       "      <td>1.950</td>\n",
       "    </tr>\n",
       "    <tr>\n",
       "      <th>2011-10-05</th>\n",
       "      <th>23236</th>\n",
       "      <th>Germany</th>\n",
       "      <td>DOILEY STORAGE TIN</td>\n",
       "      <td>12</td>\n",
       "      <td>34.68</td>\n",
       "      <td>2.890</td>\n",
       "    </tr>\n",
       "    <tr>\n",
       "      <th>2011-06-22</th>\n",
       "      <th>23165</th>\n",
       "      <th>United Kingdom</th>\n",
       "      <td>LARGE CERAMIC TOP STORAGE JAR</td>\n",
       "      <td>16</td>\n",
       "      <td>26.40</td>\n",
       "      <td>1.650</td>\n",
       "    </tr>\n",
       "    <tr>\n",
       "      <th>2011-06-20</th>\n",
       "      <th>35923</th>\n",
       "      <th>United Kingdom</th>\n",
       "      <td>CANDY HEART HANGING DECORATION</td>\n",
       "      <td>15</td>\n",
       "      <td>5.85</td>\n",
       "      <td>0.390</td>\n",
       "    </tr>\n",
       "    <tr>\n",
       "      <th>2011-04-10</th>\n",
       "      <th>20728</th>\n",
       "      <th>United Kingdom</th>\n",
       "      <td>LUNCH BAG CARS BLUE</td>\n",
       "      <td>6</td>\n",
       "      <td>9.90</td>\n",
       "      <td>1.650</td>\n",
       "    </tr>\n",
       "    <tr>\n",
       "      <th>2011-02-28</th>\n",
       "      <th>22326</th>\n",
       "      <th>Switzerland</th>\n",
       "      <td>ROUND SNACK BOXES SET OF4 WOODLAND</td>\n",
       "      <td>12</td>\n",
       "      <td>35.40</td>\n",
       "      <td>2.950</td>\n",
       "    </tr>\n",
       "    <tr>\n",
       "      <th>2011-11-08</th>\n",
       "      <th>35953</th>\n",
       "      <th>United Kingdom</th>\n",
       "      <td>FOLKART STAR CHRISTMAS DECORATIONS</td>\n",
       "      <td>80</td>\n",
       "      <td>38.24</td>\n",
       "      <td>0.478</td>\n",
       "    </tr>\n",
       "    <tr>\n",
       "      <th>2010-12-16</th>\n",
       "      <th>22728</th>\n",
       "      <th>United Kingdom</th>\n",
       "      <td>ALARM CLOCK BAKELIKE PINK</td>\n",
       "      <td>18</td>\n",
       "      <td>67.50</td>\n",
       "      <td>3.750</td>\n",
       "    </tr>\n",
       "  </tbody>\n",
       "</table>\n",
       "</div>"
      ],
      "text/plain": [
       "                                                             Description  \\\n",
       "Date       StockCode Country                                               \n",
       "2011-02-27 22800     United Kingdom  ANTIQUE TALL SWIRLGLASS TRINKET POT   \n",
       "2011-12-01 22233     United Kingdom          JIGSAW RABBIT AND BIRDHOUSE   \n",
       "2010-12-15 22385     United Kingdom            JUMBO BAG SPACEBOY DESIGN   \n",
       "2011-10-05 23236     Germany                          DOILEY STORAGE TIN   \n",
       "2011-06-22 23165     United Kingdom        LARGE CERAMIC TOP STORAGE JAR   \n",
       "2011-06-20 35923     United Kingdom       CANDY HEART HANGING DECORATION   \n",
       "2011-04-10 20728     United Kingdom                  LUNCH BAG CARS BLUE   \n",
       "2011-02-28 22326     Switzerland     ROUND SNACK BOXES SET OF4 WOODLAND    \n",
       "2011-11-08 35953     United Kingdom   FOLKART STAR CHRISTMAS DECORATIONS   \n",
       "2010-12-16 22728     United Kingdom            ALARM CLOCK BAKELIKE PINK   \n",
       "\n",
       "                                     Quantity  revenue  UnitPrice  \n",
       "Date       StockCode Country                                       \n",
       "2011-02-27 22800     United Kingdom         4    15.00      3.750  \n",
       "2011-12-01 22233     United Kingdom        24    14.16      0.590  \n",
       "2010-12-15 22385     United Kingdom         2     3.90      1.950  \n",
       "2011-10-05 23236     Germany               12    34.68      2.890  \n",
       "2011-06-22 23165     United Kingdom        16    26.40      1.650  \n",
       "2011-06-20 35923     United Kingdom        15     5.85      0.390  \n",
       "2011-04-10 20728     United Kingdom         6     9.90      1.650  \n",
       "2011-02-28 22326     Switzerland           12    35.40      2.950  \n",
       "2011-11-08 35953     United Kingdom        80    38.24      0.478  \n",
       "2010-12-16 22728     United Kingdom        18    67.50      3.750  "
      ]
     },
     "execution_count": 2,
     "metadata": {},
     "output_type": "execute_result"
    }
   ],
   "source": [
    "df = pd.read_parquet('ecom_sample_clean.parquet')\n",
    "df.set_index(['Date', 'StockCode', 'Country']).sample(10)"
   ]
  },
  {
   "cell_type": "markdown",
   "metadata": {},
   "source": [
    "First, we do a little more data preparation. We are going to exlcude the products with no variation in price. "
   ]
  },
  {
   "cell_type": "code",
   "execution_count": 3,
   "metadata": {},
   "outputs": [],
   "source": [
    "df_mdl = df[\n",
    "    (df.groupby('StockCode').UnitPrice.transform('std') > 0)\n",
    "]\n",
    "del df"
   ]
  },
  {
   "cell_type": "code",
   "execution_count": 4,
   "metadata": {},
   "outputs": [],
   "source": [
    "df_mdl = df_mdl.assign(                     #Then we create two columns for log of price and quantity\n",
    "    LnP = np.log(df_mdl['UnitPrice']),\n",
    "    LnQ = np.log(df_mdl['Quantity']),\n",
    ")\n",
    "\n",
    "df_mdl = df_mdl.sample(1000)                #We reduce the sample size just to run our codes faster"
   ]
  },
  {
   "cell_type": "markdown",
   "metadata": {},
   "source": [
    "Next we do an item level de-meaning ($dlogP$ and $dlogQ$) to take care of item level fixed effect in the model. The feautre for the random forests are added to the dataset as follows:\n",
    "\n",
    "- Month, day of month and day of week of the invoice date.\n",
    "\n",
    "- Age of the stock calculated from the oldest date of the stock code to the selling day. This is for acknowledging trend. \n",
    "\n",
    "- Meadian price per Stock code. "
   ]
  },
  {
   "cell_type": "code",
   "execution_count": 6,
   "metadata": {},
   "outputs": [],
   "source": [
    "df_mdl['dLnP'] = np.log(df_mdl.UnitPrice) - np.log(df_mdl.groupby('StockCode').UnitPrice.transform('mean'))\n",
    "df_mdl['dLnQ'] = np.log(df_mdl.Quantity) - np.log(df_mdl.groupby('StockCode').Quantity.transform('mean')) \n",
    "\n",
    "df_mdl = df_mdl.assign(\n",
    "    month = lambda d: d.Date.dt.month,\n",
    "    DoM =   lambda d: d.Date.dt.day,\n",
    "    DoW =   lambda d: d.Date.dt.weekday,\n",
    "    stock_age_days = lambda d: \n",
    "        (d.Date - d.groupby('StockCode').Date.transform('min')).dt.days,\n",
    "    sku_avg_p = lambda d: \n",
    "        d.groupby('StockCode').UnitPrice.transform('median')\n",
    ")"
   ]
  },
  {
   "cell_type": "markdown",
   "metadata": {},
   "source": [
    "With feature generator, we input all the features created above as numerical feature. We also consider categorical features such as date, description and country. "
   ]
  },
  {
   "cell_type": "code",
   "execution_count": 7,
   "metadata": {},
   "outputs": [],
   "source": [
    "feature_generator_full = ColumnTransformer(\n",
    "    [\n",
    "        # do NOT include to reduce overfit (price is sku-level-demeaned anyway): \n",
    "        # ('StockCode', OneHotEncoder(), ['StockCode']), \n",
    "        ('Date', OneHotEncoder(categories='auto'), ['Date']),\n",
    "        ('Description', CountVectorizer(min_df=0.0025, ngram_range=(1, 3)), 'Description'),\n",
    "        ('Country', OneHotEncoder(categories='auto'), ['Country']),\n",
    "        ('numeric_feats', StandardScaler(), ['month', 'DoM', 'DoW', 'stock_age_days', 'sku_avg_p']),\n",
    "    ], remainder='drop'\n",
    ")"
   ]
  },
  {
   "cell_type": "markdown",
   "metadata": {},
   "source": [
    "We model both quantity and price with the features above through random forest regressors. We then fit the models and save them through joblibs. We use joblibs just to save time. "
   ]
  },
  {
   "cell_type": "code",
   "execution_count": 8,
   "metadata": {},
   "outputs": [],
   "source": [
    "model_y = Pipeline([\n",
    "    ('feat_proc', feature_generator_full),\n",
    "    ('model_y', RandomForestRegressor(n_estimators=50, min_samples_leaf=3, n_jobs=-1, verbose=0)) \n",
    "    # n_samples_leaf/n_estimators is set to reduce model (file) size and runtime\n",
    "    # larger models yield prettier plots.\n",
    "])\n",
    "model_t = Pipeline([\n",
    "    ('feat_proc', feature_generator_full),\n",
    "    ('model_t', RandomForestRegressor(n_estimators=50, min_samples_leaf=3, n_jobs=-1, verbose=0))\n",
    "])"
   ]
  },
  {
   "cell_type": "code",
   "execution_count": 11,
   "metadata": {},
   "outputs": [
    {
     "name": "stdout",
     "output_type": "stream",
     "text": [
      "No pre-existing models found, fitting aux models for y and t\n"
     ]
    }
   ],
   "source": [
    "import joblib\n",
    "\n",
    "try: # load existing models, if possible\n",
    "    model_y = joblib.load('models/step1_model_y.joblib')\n",
    "    model_t = joblib.load('models/step1_model_t.joblib')\n",
    "except:\n",
    "    print('No pre-existing models found, fitting aux models for y and t')\n",
    "    model_y.fit(df_mdl, df_mdl.dLnQ)\n",
    "    model_t.fit(df_mdl, df_mdl.dLnP)\n",
    "    \n",
    "    joblib.dump(model_y, 'models/step1_model_y.joblib', compress=True)\n",
    "    joblib.dump(model_t, 'models/step1_model_t.joblib', compress=True)"
   ]
  },
  {
   "cell_type": "markdown",
   "metadata": {},
   "source": [
    "We then predict the model and create the columns for saving the residuals for both quantity and price. Fianlly, we calculate the elasticity by $\\hat{\\epsilon} = (\\tilde{P} P)^-1 \\tilde{P}\\tilde{Q} $. One thing to note here is that the second $P$ is not residualized.  "
   ]
  },
  {
   "cell_type": "code",
   "execution_count": 12,
   "metadata": {},
   "outputs": [],
   "source": [
    "q_hat = model_y.predict(df_mdl)\n",
    "p_hat = model_t.predict(df_mdl)"
   ]
  },
  {
   "cell_type": "code",
   "execution_count": 13,
   "metadata": {},
   "outputs": [],
   "source": [
    "df_mdl = df_mdl.assign(\n",
    "    dLnP_res = df_mdl['dLnP'] - p_hat,\n",
    "    dLnQ_res = df_mdl['dLnQ'] - q_hat,\n",
    ")"
   ]
  },
  {
   "cell_type": "code",
   "execution_count": 14,
   "metadata": {},
   "outputs": [],
   "source": [
    "elast = (\n",
    "        df_mdl['dLnP_res'].dot(df_mdl['dLnQ_res'])\n",
    "        /\n",
    "        df_mdl['dLnP_res'].dot(df_mdl['dLnP'])\n",
    "        # the last part here deviates from standard OLS solution\n",
    "    )"
   ]
  },
  {
   "cell_type": "code",
   "execution_count": 15,
   "metadata": {},
   "outputs": [
    {
     "data": {
      "text/plain": [
       "-1.3509633828176946"
      ]
     },
     "execution_count": 15,
     "metadata": {},
     "output_type": "execute_result"
    }
   ],
   "source": [
    "elast"
   ]
  },
  {
   "cell_type": "markdown",
   "metadata": {},
   "source": [
    "A more efficient estimator is when we split the data in two halves and use one half for residualizing process (auxiliary model) and other half for the final (inferential) model. Ideally what we would like to do is to split the sample in two halves for several times and estimate elasticities. Then we take mean of all the elasticities estimated and cosider that as our final estimate.   "
   ]
  }
 ],
 "metadata": {
  "kernelspec": {
   "display_name": "Python 3",
   "language": "python",
   "name": "python3"
  },
  "language_info": {
   "codemirror_mode": {
    "name": "ipython",
    "version": 3
   },
   "file_extension": ".py",
   "mimetype": "text/x-python",
   "name": "python",
   "nbconvert_exporter": "python",
   "pygments_lexer": "ipython3",
   "version": "3.7.3"
  }
 },
 "nbformat": 4,
 "nbformat_minor": 2
}
